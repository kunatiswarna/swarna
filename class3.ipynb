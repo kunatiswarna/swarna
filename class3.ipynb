{
 "cells": [
  {
   "cell_type": "code",
   "execution_count": 1,
   "metadata": {},
   "outputs": [],
   "source": [
    "import numpy as np "
   ]
  },
  {
   "cell_type": "code",
   "execution_count": 4,
   "metadata": {},
   "outputs": [
    {
     "name": "stdout",
     "output_type": "stream",
     "text": [
      "[1 2 3]\n",
      "<type 'numpy.ndarray'>\n",
      "(3,)\n"
     ]
    }
   ],
   "source": [
    "a=np.array([1,2,3])        # vetor of 3 columns\n",
    "print(a)\n",
    "print(type(a))\n",
    "print(a.shape)"
   ]
  },
  {
   "cell_type": "code",
   "execution_count": 26,
   "metadata": {},
   "outputs": [
    {
     "name": "stdout",
     "output_type": "stream",
     "text": [
      "[5 7 9]\n",
      "[-3 -3 -3]\n",
      "[ 4 10 18]\n",
      "[0 0 0]\n",
      "[  1  32 729]\n"
     ]
    }
   ],
   "source": [
    "a=np.array([1,2,3])      # addition operation\n",
    "b=np.array([4,5,6])\n",
    "print(a+b)\n",
    "print(a-b)\n",
    "print(a*b)\n",
    "print(a/b)\n",
    "print(a**b)"
   ]
  },
  {
   "cell_type": "code",
   "execution_count": 10,
   "metadata": {},
   "outputs": [
    {
     "name": "stdout",
     "output_type": "stream",
     "text": [
      "[1, 2, 3, 4, 5, 6]\n",
      "[5 7 9]\n",
      "<type 'list'>\n"
     ]
    }
   ],
   "source": [
    "l1=[1,2,3]\n",
    "l2=[4,5,6]\n",
    "print(l1+l2)\n",
    "l1=np.array(l1)\n",
    "l2=np.array(l2)\n",
    "print(l1+l2)\n",
    "l1=l1.tolist()\n",
    "print(type(l1))"
   ]
  },
  {
   "cell_type": "code",
   "execution_count": 12,
   "metadata": {},
   "outputs": [
    {
     "name": "stdout",
     "output_type": "stream",
     "text": [
      "[[1 2 3]\n",
      " [4 5 6]\n",
      " [7 8 9]]\n"
     ]
    }
   ],
   "source": [
    "mat=np.array([[1,2,3],(4,5,6),[7,8,9]])\n",
    "print(mat)"
   ]
  },
  {
   "cell_type": "code",
   "execution_count": 14,
   "metadata": {},
   "outputs": [
    {
     "data": {
      "text/plain": [
       "array([1, 2, 3])"
      ]
     },
     "execution_count": 14,
     "metadata": {},
     "output_type": "execute_result"
    }
   ],
   "source": [
    "mat[0]"
   ]
  },
  {
   "cell_type": "code",
   "execution_count": 15,
   "metadata": {},
   "outputs": [
    {
     "name": "stdout",
     "output_type": "stream",
     "text": [
      "[0 1 2 3 4 5 6 7 8 9]\n"
     ]
    }
   ],
   "source": [
    "print(np.arange(10))"
   ]
  },
  {
   "cell_type": "code",
   "execution_count": 18,
   "metadata": {},
   "outputs": [
    {
     "name": "stdout",
     "output_type": "stream",
     "text": [
      "[[1 4 7]\n",
      " [2 5 8]\n",
      " [3 6 9]]\n"
     ]
    }
   ],
   "source": [
    "print(mat.T)  #transpose of a matrix"
   ]
  },
  {
   "cell_type": "code",
   "execution_count": 19,
   "metadata": {},
   "outputs": [
    {
     "name": "stdout",
     "output_type": "stream",
     "text": [
      "[[ 2  4  6]\n",
      " [ 8 10 12]\n",
      " [14 16 18]]\n"
     ]
    }
   ],
   "source": [
    "print(2*mat)"
   ]
  },
  {
   "cell_type": "code",
   "execution_count": 20,
   "metadata": {},
   "outputs": [
    {
     "name": "stdout",
     "output_type": "stream",
     "text": [
      "[2 5 8]\n"
     ]
    }
   ],
   "source": [
    "print(mat[:,1])"
   ]
  },
  {
   "cell_type": "markdown",
   "metadata": {},
   "source": [
    "# indentity matrix"
   ]
  },
  {
   "cell_type": "code",
   "execution_count": 21,
   "metadata": {},
   "outputs": [
    {
     "name": "stdout",
     "output_type": "stream",
     "text": [
      "[[1. 0. 0.]\n",
      " [0. 1. 0.]\n",
      " [0. 0. 1.]]\n"
     ]
    }
   ],
   "source": [
    "indentity=np.eye(3)\n",
    "print(indentity)"
   ]
  },
  {
   "cell_type": "code",
   "execution_count": 28,
   "metadata": {},
   "outputs": [
    {
     "name": "stdout",
     "output_type": "stream",
     "text": [
      "[1. 1. 1.]\n",
      "[[0. 0. 0.]\n",
      " [0. 0. 0.]\n",
      " [0. 0. 0.]]\n"
     ]
    }
   ],
   "source": [
    "onesmatrix= np.ones([3])\n",
    "print(onesmatrix)\n",
    "zeromatrix=np.zeros([3,3])\n",
    "print(zeromatrix)"
   ]
  },
  {
   "cell_type": "code",
   "execution_count": 35,
   "metadata": {},
   "outputs": [
    {
     "name": "stdout",
     "output_type": "stream",
     "text": [
      "(10, 10)\n",
      "[[0.81686722 0.91945922 0.32128461 0.03346948 0.17724472 0.55508658\n",
      "  0.4919789  0.97033646 0.56988659 0.08554458]\n",
      " [0.91090885 0.38045703 0.98129638 0.58928964 0.69774169 0.16970493\n",
      "  0.41854282 0.81483523 0.36865848 0.32746577]\n",
      " [0.88046835 0.03754159 0.48455978 0.97058878 0.16523687 0.75505095\n",
      "  0.77710018 0.67558979 0.40155355 0.810101  ]\n",
      " [0.24274907 0.24848891 0.30608023 0.64308221 0.24329967 0.40164954\n",
      "  0.10949565 0.92534505 0.74348277 0.59627483]\n",
      " [0.0293247  0.10061455 0.46188209 0.3269591  0.35069098 0.74032195\n",
      "  0.17850845 0.48081363 0.99474679 0.11921846]\n",
      " [0.12577738 0.21944758 0.14084133 0.9646469  0.90990638 0.80311439\n",
      "  0.54648166 0.49260885 0.07188328 0.5101677 ]\n",
      " [0.14208109 0.91640577 0.95936523 0.25248358 0.428626   0.25817455\n",
      "  0.69094957 0.04479503 0.07283788 0.58436962]\n",
      " [0.34559454 0.35795064 0.58708046 0.22830438 0.55870743 0.04852789\n",
      "  0.19558497 0.1994358  0.68061078 0.51344904]\n",
      " [0.60675288 0.47354825 0.4826173  0.87989972 0.67544988 0.96864346\n",
      "  0.54597999 0.6921643  0.04554146 0.1605032 ]\n",
      " [0.0369714  0.05743875 0.98877892 0.90412406 0.82741009 0.04048936\n",
      "  0.61397338 0.3945068  0.12367732 0.2340049 ]]\n"
     ]
    }
   ],
   "source": [
    "random_matrix = np.random.rand(10,10)\n",
    "print(random_matrix.shape)\n",
    "print(random_matrix)"
   ]
  },
  {
   "cell_type": "code",
   "execution_count": 22,
   "metadata": {},
   "outputs": [],
   "source": [
    "def arthimatic_operations(x,y):\n",
    "    addition    = x+y\n",
    "    subtraction = x-y\n",
    "    mul         = x*y\n",
    "    div         = x/y\n",
    "    return addition,subtraction,mul,div"
   ]
  },
  {
   "cell_type": "code",
   "execution_count": 23,
   "metadata": {},
   "outputs": [],
   "source": [
    "a,s,m,d = arthimatic_operations (3,4)"
   ]
  },
  {
   "cell_type": "code",
   "execution_count": 24,
   "metadata": {},
   "outputs": [
    {
     "name": "stdout",
     "output_type": "stream",
     "text": [
      "(7, -1, 12, 0)\n"
     ]
    }
   ],
   "source": [
    "print (a,s,m,d,)"
   ]
  },
  {
   "cell_type": "code",
   "execution_count": 25,
   "metadata": {},
   "outputs": [],
   "source": [
    "import numpy as np\n",
    "x=np.array([1,2,3])\n",
    "y=np.array([4,5,6])\n",
    "def vector_operations(x,y):\n",
    "    additon = x+y\n",
    "    subtraction = x-y\n",
    "    mul = x*y\n",
    "    div = x/y\n",
    "    return addition,subtraction,mul,div"
   ]
  },
  {
   "cell_type": "markdown",
   "metadata": {},
   "source": [
    "a,s,m,d = vector_ operation (x,y)"
   ]
  },
  {
   "cell_type": "code",
   "execution_count": 26,
   "metadata": {},
   "outputs": [
    {
     "name": "stdout",
     "output_type": "stream",
     "text": [
      "(7, -1, 12, 0)\n"
     ]
    }
   ],
   "source": [
    "print(a,s,m,d)"
   ]
  },
  {
   "cell_type": "code",
   "execution_count": 42,
   "metadata": {
    "scrolled": true
   },
   "outputs": [],
   "source": [
    "import operations"
   ]
  },
  {
   "cell_type": "code",
   "execution_count": 43,
   "metadata": {},
   "outputs": [
    {
     "name": "stdout",
     "output_type": "stream",
     "text": [
      "(9, -1, 20, 0)\n"
     ]
    }
   ],
   "source": [
    "print(operations.arthimatic_operations(4,5))"
   ]
  },
  {
   "cell_type": "code",
   "execution_count": 49,
   "metadata": {},
   "outputs": [
    {
     "name": "stdout",
     "output_type": "stream",
     "text": [
      "[ 0  1  2  3  4  5  6  7  8  9 10 11 12 13 14 15 16 17 18 19 20 21 22 23\n",
      " 24 25 26 27 28 29 30 31 32 33 34 35 36 37 38 39 40 41 42 43 44 45 46 47\n",
      " 48 49 50 51 52 53 54 55 56 57 58 59 60 61 62 63 64 65 66 67 68 69 70 71\n",
      " 72 73 74 75 76 77 78 79 80 81 82 83 84 85 86 87 88 89 90 91 92 93 94 95\n",
      " 96 97 98 99]\n"
     ]
    }
   ],
   "source": [
    "# specify the array range \n",
    "a = np.arange(100)\n",
    "print a"
   ]
  },
  {
   "cell_type": "code",
   "execution_count": 50,
   "metadata": {},
   "outputs": [
    {
     "name": "stdout",
     "output_type": "stream",
     "text": [
      "[[ 0  1  2  3  4  5  6  7  8  9]\n",
      " [10 11 12 13 14 15 16 17 18 19]\n",
      " [20 21 22 23 24 25 26 27 28 29]\n",
      " [30 31 32 33 34 35 36 37 38 39]\n",
      " [40 41 42 43 44 45 46 47 48 49]\n",
      " [50 51 52 53 54 55 56 57 58 59]\n",
      " [60 61 62 63 64 65 66 67 68 69]\n",
      " [70 71 72 73 74 75 76 77 78 79]\n",
      " [80 81 82 83 84 85 86 87 88 89]\n",
      " [90 91 92 93 94 95 96 97 98 99]]\n"
     ]
    }
   ],
   "source": [
    "# reshape the array\n",
    "a = np.reshape(a,(10,10))\n",
    "print a"
   ]
  },
  {
   "cell_type": "code",
   "execution_count": 59,
   "metadata": {},
   "outputs": [],
   "source": [
    "a=np.random.rand(10)"
   ]
  },
  {
   "cell_type": "code",
   "execution_count": 60,
   "metadata": {},
   "outputs": [
    {
     "name": "stdout",
     "output_type": "stream",
     "text": [
      "[[0.67245797 0.99311145 0.57106305 0.85091993 0.72833399 0.85962771\n",
      "  0.3108222  0.23960952 0.60875577 0.44569452]\n",
      " [0.80616962 0.99470442 0.10800661 0.88990771 0.35692148 0.63417089\n",
      "  0.96476358 0.52396621 0.24616809 0.58371741]\n",
      " [0.79327157 0.573363   0.84279029 0.00723516 0.36736974 0.88963837\n",
      "  0.32656312 0.47197198 0.56137227 0.10225227]\n",
      " [0.14737038 0.26276274 0.96696058 0.5341069  0.10821524 0.27737509\n",
      "  0.55924873 0.70515866 0.68335426 0.97059007]\n",
      " [0.78833949 0.37856872 0.57841418 0.98110256 0.81464487 0.22455465\n",
      "  0.43317722 0.14057876 0.33136763 0.19585051]\n",
      " [0.45058985 0.58409364 0.1074399  0.98865997 0.86881278 0.23604395\n",
      "  0.68943126 0.52464095 0.59792669 0.08071461]\n",
      " [0.72487883 0.05969278 0.6216936  0.46661469 0.87417882 0.13128259\n",
      "  0.69535387 0.93541386 0.83035466 0.38438054]\n",
      " [0.39917241 0.0625732  0.06052862 0.59314092 0.64609737 0.91567097\n",
      "  0.36587421 0.08787526 0.57084895 0.26773697]\n",
      " [0.75981244 0.32521959 0.48958923 0.04538627 0.84852773 0.23253103\n",
      "  0.11446163 0.54372348 0.20520639 0.96766957]\n",
      " [0.96995633 0.00629823 0.60410677 0.69020742 0.46918091 0.09910939\n",
      "  0.55050301 0.53000514 0.22190182 0.08174293]]\n"
     ]
    }
   ],
   "source": [
    "a=np.random.rand(10,10)\n",
    "print (a)"
   ]
  },
  {
   "cell_type": "code",
   "execution_count": 63,
   "metadata": {},
   "outputs": [
    {
     "name": "stdout",
     "output_type": "stream",
     "text": [
      "[0.92216532 0.84027908 0.15031594 0.66444425 0.78337823 0.2503529\n",
      " 0.23403074 0.08865131 0.55385957 0.28982374]\n"
     ]
    }
   ],
   "source": [
    " import numpy as np\n",
    "    #flatten the array\n",
    " a=np.random.rand(10)\n",
    " print (np.ravel(a))"
   ]
  },
  {
   "cell_type": "code",
   "execution_count": 64,
   "metadata": {},
   "outputs": [
    {
     "name": "stdout",
     "output_type": "stream",
     "text": [
      "[-0.08103077 -0.17402121 -1.89501591 -0.4088043  -0.24413965 -1.38488374\n",
      " -1.45230283 -2.42304447 -0.59084411 -1.23848233]\n"
     ]
    }
   ],
   "source": [
    "#apply logirthm on array a\n",
    "print np.log(a)"
   ]
  },
  {
   "cell_type": "code",
   "execution_count": 65,
   "metadata": {},
   "outputs": [
    {
     "name": "stdout",
     "output_type": "stream",
     "text": [
      "[[0 1]\n",
      " [2 3]]\n",
      "eigen values are [-0.56155281  3.56155281]\n",
      "eigen vectors are [[-0.87192821 -0.27032301]\n",
      " [ 0.48963374 -0.96276969]]\n"
     ]
    }
   ],
   "source": [
    "#find the eigen values of a matrix\n",
    "a= np.arange(4).reshape(2,2)\n",
    "print a \n",
    "values,vectors = np.linalg.eig(a)\n",
    "print \"eigen values are\",values\n",
    "print \"eigen vectors are\",vectors"
   ]
  },
  {
   "cell_type": "code",
   "execution_count": 66,
   "metadata": {},
   "outputs": [
    {
     "name": "stdout",
     "output_type": "stream",
     "text": [
      "-2.0\n"
     ]
    }
   ],
   "source": [
    "#determinant of a matrix\n",
    "print np.linalg.det(a)"
   ]
  },
  {
   "cell_type": "code",
   "execution_count": 67,
   "metadata": {},
   "outputs": [
    {
     "name": "stdout",
     "output_type": "stream",
     "text": [
      "[[ 22  39]\n",
      " [ 78 139]]\n"
     ]
    }
   ],
   "source": [
    "#matrix power of 4\n",
    "print np.linalg.matrix_power (a,4)"
   ]
  },
  {
   "cell_type": "markdown",
   "metadata": {},
   "source": [
    "# mean of vector"
   ]
  },
  {
   "cell_type": "code",
   "execution_count": 68,
   "metadata": {},
   "outputs": [],
   "source": [
    "import numpy as np\n",
    "a= np.array ([1,2,3])"
   ]
  },
  {
   "cell_type": "code",
   "execution_count": 69,
   "metadata": {},
   "outputs": [
    {
     "name": "stdout",
     "output_type": "stream",
     "text": [
      "2.0\n"
     ]
    }
   ],
   "source": [
    "print np.mean(a)"
   ]
  },
  {
   "cell_type": "code",
   "execution_count": 70,
   "metadata": {},
   "outputs": [
    {
     "name": "stdout",
     "output_type": "stream",
     "text": [
      "[2.5 3.5 4.5]\n",
      "[2. 5.]\n"
     ]
    }
   ],
   "source": [
    "a=np.array([[1,2,3],[4,5,6]])\n",
    "print(np.mean(a,axis=0))\n",
    "print(np.mean(a,axis=1))"
   ]
  },
  {
   "cell_type": "markdown",
   "metadata": {},
   "source": [
    "# dictionaries"
   ]
  },
  {
   "cell_type": "code",
   "execution_count": 75,
   "metadata": {},
   "outputs": [
    {
     "name": "stdout",
     "output_type": "stream",
     "text": [
      "cute\n",
      "['dog', 'cat']\n",
      "['furry', 'cute']\n",
      "[('dog', 'furry'), ('cat', 'cute')]\n",
      "('dog', 'furry')\n",
      "('cat', 'cute')\n"
     ]
    }
   ],
   "source": [
    "d = {'cat':'cute','dog':'furry'}      #create a new dictionary\n",
    "print (d['cat'] )                      \n",
    "print  (d.keys())\n",
    "print(d.values())\n",
    "print(d.items())\n",
    "for key,values in d.items():\n",
    "    print(key,values)\n",
    "    \n",
    "    "
   ]
  },
  {
   "cell_type": "code",
   "execution_count": 78,
   "metadata": {},
   "outputs": [
    {
     "name": "stdout",
     "output_type": "stream",
     "text": [
      "cute\n",
      "None\n",
      "2\n"
     ]
    }
   ],
   "source": [
    "print(d.get('cat'))\n",
    "print(d.get('hello'))\n",
    "print(len(d))"
   ]
  },
  {
   "cell_type": "code",
   "execution_count": null,
   "metadata": {},
   "outputs": [],
   "source": []
  }
 ],
 "metadata": {
  "kernelspec": {
   "display_name": "Python 2",
   "language": "python",
   "name": "python2"
  },
  "language_info": {
   "codemirror_mode": {
    "name": "ipython",
    "version": 2
   },
   "file_extension": ".py",
   "mimetype": "text/x-python",
   "name": "python",
   "nbconvert_exporter": "python",
   "pygments_lexer": "ipython2",
   "version": "2.7.14"
  }
 },
 "nbformat": 4,
 "nbformat_minor": 2
}
